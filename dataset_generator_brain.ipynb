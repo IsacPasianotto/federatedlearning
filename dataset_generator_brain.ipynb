{
 "cells": [
  {
   "cell_type": "code",
   "execution_count": null,
   "id": "initial_id",
   "metadata": {
    "ExecuteTime": {
     "end_time": "2024-06-26T14:08:52.357991Z",
     "start_time": "2024-06-26T14:08:47.598748Z"
    }
   },
   "outputs": [],
   "source": [
    "import os\n",
    "import torch\n",
    "import torchvision as tv\n",
    "import numpy as np"
   ]
  },
  {
   "cell_type": "code",
   "execution_count": null,
   "id": "2c630171b861d240",
   "metadata": {
    "ExecuteTime": {
     "end_time": "2024-06-26T14:08:52.362865Z",
     "start_time": "2024-06-26T14:08:52.359793Z"
    }
   },
   "outputs": [],
   "source": [
    "# constants\n",
    "MAIN_DIR = 'data/brain_cancer/'\n",
    "DATA_DIR = f'{MAIN_DIR}Brain Cancer/'\n",
    "ZIP_FILE = f'{MAIN_DIR}BrainCancer.zip'"
   ]
  },
  {
   "cell_type": "code",
   "execution_count": null,
   "id": "2bed9799d2922df4",
   "metadata": {
    "ExecuteTime": {
     "end_time": "2024-06-26T14:08:52.377577Z",
     "start_time": "2024-06-26T14:08:52.364264Z"
    }
   },
   "outputs": [],
   "source": [
    "# check if ./data dir is empty\n",
    "if os.path.isdir(DATA_DIR) and len(os.listdir(DATA_DIR)) > 0:\n",
    "    print('Data already extracted!\\nSkipping ....')\n",
    "else:\n",
    "    os.system(f'unzip {ZIP_FILE} -d {MAIN_DIR}')\n",
    "    print('\\n\\nData extracted!')"
   ]
  },
  {
   "cell_type": "code",
   "execution_count": null,
   "id": "5829ef9646f24aa9",
   "metadata": {
    "ExecuteTime": {
     "end_time": "2024-06-26T14:08:52.496510Z",
     "start_time": "2024-06-26T14:08:52.378855Z"
    }
   },
   "outputs": [],
   "source": [
    "DATA_PATHS = []  # list of test data paths\n",
    "for dirname, _, filenames in os.walk(DATA_DIR):\n",
    "    for filename in filenames:\n",
    "      # skip folders\n",
    "        if not os.path.isdir(os.path.join(dirname, filename)):\n",
    "          DATA_PATHS.append(os.path.join(dirname, filename))\n",
    "          \n",
    "# create a dictionary with the number of images for each folder of DATA_DIR\n",
    "nImages={}\n",
    "for dirname, _, filenames in os.walk(DATA_DIR):\n",
    "  if len(filenames)>0:\n",
    "    name = dirname.split('_')[-1]\n",
    "    nImages[name]=len(filenames)\n",
    "print(nImages)"
   ]
  },
  {
   "cell_type": "code",
   "execution_count": null,
   "id": "639c509de1d83800",
   "metadata": {
    "ExecuteTime": {
     "end_time": "2024-06-26T14:09:16.579447Z",
     "start_time": "2024-06-26T14:08:52.498912Z"
    }
   },
   "outputs": [],
   "source": [
    "# read the images as a tensor with torchvision\n",
    "images = [tv.io.read_image(img) for img in DATA_PATHS]"
   ]
  },
  {
   "cell_type": "code",
   "execution_count": null,
   "id": "b468bed260890c64",
   "metadata": {
    "ExecuteTime": {
     "end_time": "2024-06-26T14:09:16.845059Z",
     "start_time": "2024-06-26T14:09:16.581171Z"
    }
   },
   "outputs": [],
   "source": [
    "# Assign the labels to the images (files are named with the correct classification)\n",
    "\n",
    "# code: \n",
    "#  0 --> brain glioma\n",
    "#  1 --> meningioma\n",
    "#  2 --> tumor\n",
    "\n",
    "data_len = len(DATA_PATHS)\n",
    "labels = torch.zeros(data_len)\n",
    "\n",
    "for i, img in enumerate(DATA_PATHS):\n",
    "    labels[i] = 0 if 'glioma' in img else 1 if 'menin' in img else 2"
   ]
  },
  {
   "cell_type": "code",
   "execution_count": null,
   "id": "a362cad4-06b7-47eb-b728-638a1964f43d",
   "metadata": {},
   "outputs": [],
   "source": [
    "# If we don't do this intermediate step it does not work\n",
    "images_np = np.array(images)"
   ]
  },
  {
   "cell_type": "code",
   "execution_count": null,
   "id": "48e200ac-5b48-443c-931d-c8b053f76163",
   "metadata": {},
   "outputs": [],
   "source": [
    "images_th = torch.tensor(images_np)"
   ]
  },
  {
   "cell_type": "code",
   "execution_count": null,
   "id": "bb752f09-8286-4dae-b54c-41b2f903f5df",
   "metadata": {},
   "outputs": [],
   "source": [
    "images_th.shape"
   ]
  },
  {
   "cell_type": "code",
   "execution_count": null,
   "id": "1af69aed-ab8f-4dbf-98ad-78f78fed6055",
   "metadata": {},
   "outputs": [],
   "source": [
    "class Dataset(torch.utils.data.Dataset):\n",
    "    \"\"\"\n",
    "    overload dataset\n",
    "    \"\"\"\n",
    "\n",
    "    def __init__ (self, images, labels):\n",
    "        self.images = images\n",
    "        self.labels = labels\n",
    "        self.images = self.images.float()\n",
    "        self.labels = self.labels.long()\n",
    "\n",
    "    def __len__ (self): \n",
    "        return(len(self.images))\n",
    "\n",
    "    def __getitem__ (self, idx):\n",
    "        return self.images[idx], self.labels[idx]"
   ]
  },
  {
   "cell_type": "code",
   "execution_count": null,
   "id": "ce52f043-9ddf-4a2a-a673-bf6e0166430b",
   "metadata": {},
   "outputs": [],
   "source": [
    "my_dataset = Dataset(images_th, labels)"
   ]
  },
  {
   "cell_type": "code",
   "execution_count": null,
   "id": "7d5cb07c-b2c9-4575-96bc-e6584293933b",
   "metadata": {},
   "outputs": [],
   "source": [
    "torch.save(my_dataset, f'{MAIN_DIR}brain_cancer_dataset.pt')"
   ]
  },
  {
   "cell_type": "code",
   "execution_count": null,
   "id": "158ecba01e60fb64",
   "metadata": {
    "jupyter": {
     "is_executing": true
    }
   },
   "outputs": [],
   "source": [
    "# Define a toy_dataset with smaller numbers:\n",
    "images_th_glioma = images_th[0:100]\n",
    "images_th_meningioma = images_th[nImages['glioma']:nImages['glioma']+100]\n",
    "images_th_tumor = images_th[nImages['glioma']+nImages['meningioma']:nImages['glioma']+nImages['meningioma']+100]\n",
    "\n",
    "labels_glioma = labels[0:100]\n",
    "labels_meningioma = labels[nImages['glioma']:nImages['glioma']+100]\n",
    "labels_tumor = labels[nImages['glioma']+nImages['meningioma']:nImages['glioma']+nImages['meningioma']+100]"
   ]
  },
  {
   "cell_type": "code",
   "execution_count": null,
   "id": "9028bddb9b968f76",
   "metadata": {
    "ExecuteTime": {
     "end_time": "2024-06-26T14:09:18.338376Z",
     "start_time": "2024-06-26T14:09:18.336683Z"
    }
   },
   "outputs": [],
   "source": [
    "images_combined = torch.cat((images_th_glioma, images_th_meningioma, images_th_tumor), dim=0)\n",
    "labels_combined = torch.cat((labels_glioma, labels_meningioma, labels_tumor), dim=0)"
   ]
  },
  {
   "cell_type": "code",
   "execution_count": null,
   "id": "a78c7b7d-e10b-4aed-8e51-81ecac73c6c6",
   "metadata": {},
   "outputs": [],
   "source": [
    "small_dataset = Dataset(images_combined, labels_combined)"
   ]
  },
  {
   "cell_type": "code",
   "execution_count": null,
   "id": "61323b5d-6945-4688-b69b-f4eecc6b4f35",
   "metadata": {},
   "outputs": [],
   "source": [
    "torch.save(small_dataset, f'{MAIN_DIR}brain_cancer_dataset_small.pt')"
   ]
  }
 ],
 "metadata": {
  "kernelspec": {
   "display_name": "Python 3 (ipykernel)",
   "language": "python",
   "name": "python3"
  },
  "language_info": {
   "codemirror_mode": {
    "name": "ipython",
    "version": 3
   },
   "file_extension": ".py",
   "mimetype": "text/x-python",
   "name": "python",
   "nbconvert_exporter": "python",
   "pygments_lexer": "ipython3",
   "version": "3.10.13"
  }
 },
 "nbformat": 4,
 "nbformat_minor": 5
}
