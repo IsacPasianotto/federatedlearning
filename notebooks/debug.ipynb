{
 "cells": [
  {
   "cell_type": "code",
   "execution_count": null,
   "id": "ca76e00441a64a30",
   "metadata": {
    "ExecuteTime": {
     "end_time": "2024-06-28T08:45:44.278515Z",
     "start_time": "2024-06-28T08:45:42.266472Z"
    }
   },
   "outputs": [],
   "source": [
    "import torch \n",
    "import seaborn as sns\n",
    "import matplotlib.pyplot as plt"
   ]
  },
  {
   "cell_type": "code",
   "execution_count": null,
   "id": "eec34b1b4935956d",
   "metadata": {
    "ExecuteTime": {
     "end_time": "2024-06-28T08:45:44.283538Z",
     "start_time": "2024-06-28T08:45:44.280163Z"
    }
   },
   "outputs": [],
   "source": [
    "class Dataset(torch.utils.data.Dataset):\n",
    "    \"\"\"\n",
    "    overload dataset\n",
    "    \"\"\"\n",
    "\n",
    "    def __init__ (self, images, labels):\n",
    "        self.images = images\n",
    "        self.labels = labels\n",
    "        self.images = self.images.float()\n",
    "        self.labels = self.labels.long()\n",
    "\n",
    "    def __len__ (self): \n",
    "        return(len(self.images))\n",
    "\n",
    "    def __getitem__ (self, idx):\n",
    "        return self.images[idx], self.labels[idx]"
   ]
  },
  {
   "cell_type": "code",
   "execution_count": null,
   "id": "8c790849a8abcb22",
   "metadata": {
    "ExecuteTime": {
     "end_time": "2024-06-28T08:45:44.533033Z",
     "start_time": "2024-06-28T08:45:44.284665Z"
    }
   },
   "outputs": [],
   "source": [
    "data_small_loaded = torch.load('data/brain_cancer/brain_cancer_dataset_small.pt')"
   ]
  },
  {
   "cell_type": "code",
   "execution_count": null,
   "id": "c7ff941f7c0976da",
   "metadata": {
    "ExecuteTime": {
     "end_time": "2024-06-28T08:45:44.541852Z",
     "start_time": "2024-06-28T08:45:44.534328Z"
    }
   },
   "outputs": [],
   "source": [
    "# extract some random indexes \n",
    "n_ind = 30 \n",
    "ind = torch.randint(0, len(data_small_loaded), (n_ind,))\n",
    "ind"
   ]
  },
  {
   "cell_type": "code",
   "execution_count": null,
   "id": "e51cf368cd53885",
   "metadata": {
    "ExecuteTime": {
     "end_time": "2024-06-28T08:45:49.723747Z",
     "start_time": "2024-06-28T08:45:44.543352Z"
    }
   },
   "outputs": [],
   "source": [
    "# for i in range(n_ind ):\n",
    "#     img, lab = data[ind[i]]\n",
    "#     plt.imshow(img[0], cmap='gray')\n",
    "#     #  1 --> brain glioma\n",
    "#     #  2 --> meningioma\n",
    "#     #  3 --> tumor\n",
    "#     lab_txt = \"\"\n",
    "#     if lab == 1.0:\n",
    "#         lab_txt = 'Brain Glioma'\n",
    "#     if lab == 2.0:\n",
    "#         lab_txt = 'Meningioma'\n",
    "#     if lab == 3.0:\n",
    "#         lab_txt = 'Tumor'\n",
    "#     plt.title(lab_txt)\n",
    "#     plt.show()\n",
    "\n",
    "for i in range(n_ind ):\n",
    "    img, lab = data_small_loaded[ind[i]]\n",
    "    plt.imshow( img.permute(1,2,0) )\n",
    "    lab_txt = 'Brain Glioma' if lab == 1.0 else 'Meningioma' if lab == 2.0 else 'Tumor'\n",
    "    plt.title(lab_txt)\n",
    "    plt.show()"
   ]
  },
  {
   "cell_type": "code",
   "execution_count": null,
   "id": "23f299bd-1529-48b0-b37a-19d041a0893e",
   "metadata": {},
   "outputs": [],
   "source": []
  }
 ],
 "metadata": {
  "kernelspec": {
   "display_name": "Python 3 (ipykernel)",
   "language": "python",
   "name": "python3"
  },
  "language_info": {
   "codemirror_mode": {
    "name": "ipython",
    "version": 3
   },
   "file_extension": ".py",
   "mimetype": "text/x-python",
   "name": "python",
   "nbconvert_exporter": "python",
   "pygments_lexer": "ipython3",
   "version": "3.10.13"
  }
 },
 "nbformat": 4,
 "nbformat_minor": 5
}
