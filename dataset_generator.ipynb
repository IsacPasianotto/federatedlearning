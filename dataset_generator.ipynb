{
 "cells": [
  {
   "cell_type": "code",
   "id": "initial_id",
   "metadata": {
    "collapsed": true,
    "ExecuteTime": {
     "end_time": "2024-06-26T14:08:52.357991Z",
     "start_time": "2024-06-26T14:08:47.598748Z"
    }
   },
   "source": [
    "import os\n",
    "import torch\n",
    "import torchvision as tv"
   ],
   "outputs": [],
   "execution_count": 1
  },
  {
   "metadata": {
    "ExecuteTime": {
     "end_time": "2024-06-26T14:08:52.362865Z",
     "start_time": "2024-06-26T14:08:52.359793Z"
    }
   },
   "cell_type": "code",
   "source": [
    "# constants\n",
    "ZIP_FILE='BrainCancer.zip'\n",
    "DATA_DIR = 'data/Brain Cancer'"
   ],
   "id": "2c630171b861d240",
   "outputs": [],
   "execution_count": 2
  },
  {
   "metadata": {
    "ExecuteTime": {
     "end_time": "2024-06-26T14:08:52.377577Z",
     "start_time": "2024-06-26T14:08:52.364264Z"
    }
   },
   "cell_type": "code",
   "source": [
    "# check if ./data dir is empty (expected only the .gitkeep file)\n",
    "if len(os.listdir('./data')) > 1:\n",
    "    print('Data already extracted!\\nskipping ....')\n",
    "else:\n",
    "    os.system(f'unzip {ZIP_FILE} -d ./data')\n",
    "    print('\\n\\nData extracted!')"
   ],
   "id": "2bed9799d2922df4",
   "outputs": [
    {
     "name": "stdout",
     "output_type": "stream",
     "text": [
      "Data already extracted!\n",
      "skipping ....\n"
     ]
    }
   ],
   "execution_count": 3
  },
  {
   "metadata": {
    "ExecuteTime": {
     "end_time": "2024-06-26T14:08:52.496510Z",
     "start_time": "2024-06-26T14:08:52.378855Z"
    }
   },
   "cell_type": "code",
   "source": [
    "DATA_PATHS = []  # list of test data paths\n",
    "for dirname, _, filenames in os.walk(DATA_DIR):\n",
    "    for filename in filenames:\n",
    "      # check if is a file or a folder\n",
    "        if os.path.isdir(os.path.join(dirname, filename)):\n",
    "            continue\n",
    "        DATA_PATHS.append(os.path.join(dirname, filename))"
   ],
   "id": "5829ef9646f24aa9",
   "outputs": [],
   "execution_count": 4
  },
  {
   "metadata": {
    "ExecuteTime": {
     "end_time": "2024-06-26T14:09:16.579447Z",
     "start_time": "2024-06-26T14:08:52.498912Z"
    }
   },
   "cell_type": "code",
   "source": [
    "# read the images as a tensor with torchvision\n",
    "images = [tv.io.read_image(img) for img in DATA_PATHS]"
   ],
   "id": "639c509de1d83800",
   "outputs": [],
   "execution_count": 5
  },
  {
   "metadata": {
    "ExecuteTime": {
     "end_time": "2024-06-26T14:09:16.845059Z",
     "start_time": "2024-06-26T14:09:16.581171Z"
    }
   },
   "cell_type": "code",
   "source": [
    "# Assign the labels to the images (files are named with the correct classification)\n",
    "\n",
    "# code: \n",
    "#  1 --> brain glioma\n",
    "#  2 --> meningioma\n",
    "#  3 --> tumor\n",
    "\n",
    "data_len = len(DATA_PATHS)\n",
    "labels = torch.zeros(data_len)\n",
    "\n",
    "for i, img in enumerate(DATA_PATHS):\n",
    "    if 'glioma' in img:\n",
    "        labels[i] = 1\n",
    "    elif 'menin' in img:\n",
    "        labels[i] = 2\n",
    "    elif 'tumor' in img:\n",
    "        labels[i] = 3"
   ],
   "id": "b468bed260890c64",
   "outputs": [],
   "execution_count": 6
  },
  {
   "metadata": {
    "jupyter": {
     "is_executing": true
    }
   },
   "cell_type": "code",
   "source": [
    "# Associate the labels with the images keeping the same order and create a tensor dataset\n",
    "dataset = torch.utils.data.TensorDataset(torch.stack(images), labels)\n",
    "# save the dataset: \n",
    "torch.save(dataset, 'data/brain_cancer_dataset.pt')\n"
   ],
   "id": "158ecba01e60fb64",
   "outputs": [],
   "execution_count": null
  },
  {
   "metadata": {
    "ExecuteTime": {
     "end_time": "2024-06-26T14:09:18.338376Z",
     "start_time": "2024-06-26T14:09:18.336683Z"
    }
   },
   "cell_type": "code",
   "source": "",
   "id": "9028bddb9b968f76",
   "outputs": [],
   "execution_count": 7
  }
 ],
 "metadata": {
  "kernelspec": {
   "display_name": "Python 3",
   "language": "python",
   "name": "python3"
  },
  "language_info": {
   "codemirror_mode": {
    "name": "ipython",
    "version": 2
   },
   "file_extension": ".py",
   "mimetype": "text/x-python",
   "name": "python",
   "nbconvert_exporter": "python",
   "pygments_lexer": "ipython2",
   "version": "2.7.6"
  }
 },
 "nbformat": 4,
 "nbformat_minor": 5
}
