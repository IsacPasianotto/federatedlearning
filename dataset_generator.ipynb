{
 "cells": [
  {
   "cell_type": "code",
   "execution_count": 1,
   "id": "initial_id",
   "metadata": {
    "ExecuteTime": {
     "end_time": "2024-06-26T14:08:52.357991Z",
     "start_time": "2024-06-26T14:08:47.598748Z"
    }
   },
   "outputs": [],
   "source": [
    "import os\n",
    "import torch\n",
    "import torchvision as tv\n",
    "import numpy as np"
   ]
  },
  {
   "cell_type": "code",
   "execution_count": 2,
   "id": "2c630171b861d240",
   "metadata": {
    "ExecuteTime": {
     "end_time": "2024-06-26T14:08:52.362865Z",
     "start_time": "2024-06-26T14:08:52.359793Z"
    }
   },
   "outputs": [],
   "source": [
    "# constants\n",
    "ZIP_FILE='BrainCancer.zip'\n",
    "DATA_DIR = 'data/Brain Cancer'"
   ]
  },
  {
   "cell_type": "code",
   "execution_count": 3,
   "id": "2bed9799d2922df4",
   "metadata": {
    "ExecuteTime": {
     "end_time": "2024-06-26T14:08:52.377577Z",
     "start_time": "2024-06-26T14:08:52.364264Z"
    }
   },
   "outputs": [
    {
     "name": "stdout",
     "output_type": "stream",
     "text": [
      "Data already extracted!\n",
      "skipping ....\n"
     ]
    }
   ],
   "source": [
    "# check if ./data dir is empty (expected only the .gitkeep and .gitattributes files)\n",
    "if len(os.listdir('./data')) > 3:\n",
    "    print('Data already extracted!\\nskipping ....')\n",
    "else:\n",
    "    os.system(f'unzip {ZIP_FILE} -d ./data')\n",
    "    print('\\n\\nData extracted!')"
   ]
  },
  {
   "cell_type": "code",
   "execution_count": 4,
   "id": "5829ef9646f24aa9",
   "metadata": {
    "ExecuteTime": {
     "end_time": "2024-06-26T14:08:52.496510Z",
     "start_time": "2024-06-26T14:08:52.378855Z"
    }
   },
   "outputs": [],
   "source": [
    "DATA_PATHS = []  # list of test data paths\n",
    "for dirname, _, filenames in os.walk(DATA_DIR):\n",
    "    for filename in filenames:\n",
    "      # check if is a file or a folder\n",
    "        if os.path.isdir(os.path.join(dirname, filename)):\n",
    "            continue\n",
    "        DATA_PATHS.append(os.path.join(dirname, filename))"
   ]
  },
  {
   "cell_type": "code",
   "execution_count": 5,
   "id": "639c509de1d83800",
   "metadata": {
    "ExecuteTime": {
     "end_time": "2024-06-26T14:09:16.579447Z",
     "start_time": "2024-06-26T14:08:52.498912Z"
    }
   },
   "outputs": [],
   "source": [
    "# read the images as a tensor with torchvision\n",
    "images = [tv.io.read_image(img) for img in DATA_PATHS]"
   ]
  },
  {
   "cell_type": "code",
   "execution_count": 6,
   "id": "b468bed260890c64",
   "metadata": {
    "ExecuteTime": {
     "end_time": "2024-06-26T14:09:16.845059Z",
     "start_time": "2024-06-26T14:09:16.581171Z"
    }
   },
   "outputs": [],
   "source": [
    "# Assign the labels to the images (files are named with the correct classification)\n",
    "\n",
    "# code: \n",
    "#  1 --> brain glioma\n",
    "#  2 --> meningioma\n",
    "#  3 --> tumor\n",
    "\n",
    "data_len = len(DATA_PATHS)\n",
    "labels = torch.zeros(data_len)\n",
    "\n",
    "for i, img in enumerate(DATA_PATHS):\n",
    "    if 'glioma' in img:\n",
    "        labels[i] = 1\n",
    "    elif 'menin' in img:\n",
    "        labels[i] = 2\n",
    "    elif 'tumor' in img:\n",
    "        labels[i] = 3"
   ]
  },
  {
   "cell_type": "code",
   "execution_count": 7,
   "id": "a362cad4-06b7-47eb-b728-638a1964f43d",
   "metadata": {},
   "outputs": [],
   "source": [
    "# If we don't do this intermediate step it does not work\n",
    "images_np = np.array(images)"
   ]
  },
  {
   "cell_type": "code",
   "execution_count": 8,
   "id": "48e200ac-5b48-443c-931d-c8b053f76163",
   "metadata": {},
   "outputs": [],
   "source": [
    "images_th = torch.tensor(images_np)"
   ]
  },
  {
   "cell_type": "code",
   "execution_count": 9,
   "id": "bb752f09-8286-4dae-b54c-41b2f903f5df",
   "metadata": {},
   "outputs": [
    {
     "data": {
      "text/plain": [
       "torch.Size([15000, 3, 512, 512])"
      ]
     },
     "execution_count": 9,
     "metadata": {},
     "output_type": "execute_result"
    }
   ],
   "source": [
    "images_th.shape"
   ]
  },
  {
   "cell_type": "code",
   "execution_count": 10,
   "id": "ad2fe558-51fd-4fbd-bba6-9af966b56101",
   "metadata": {},
   "outputs": [],
   "source": [
    "class Dataset(torch.utils.data.Dataset):\n",
    "    \"\"\"\n",
    "    overload dataset\n",
    "    \"\"\"\n",
    "\n",
    "    def __init__ (self, x, y):\n",
    "        self.x = x\n",
    "        self.y = y\n",
    "        # enforce to use float32 or some models will complain\n",
    "        self.x = self.x.float()\n",
    "        self.y = self.y.float()\n",
    "\n",
    "    def __len__ (self): \n",
    "        return(len(self.y))\n",
    "\n",
    "    def __getitem__ (self, idx):\n",
    "        return self.x[idx], self.y[idx]"
   ]
  },
  {
   "cell_type": "code",
   "execution_count": 11,
   "id": "ce52f043-9ddf-4a2a-a673-bf6e0166430b",
   "metadata": {},
   "outputs": [],
   "source": [
    "my_dataset = Dataset(images_th, labels)"
   ]
  },
  {
   "cell_type": "code",
   "execution_count": 15,
   "id": "7d5cb07c-b2c9-4575-96bc-e6584293933b",
   "metadata": {},
   "outputs": [],
   "source": [
    "torch.save(my_dataset, 'data/brain_cancer_dataset.pt')"
   ]
  },
  {
   "cell_type": "code",
   "execution_count": 16,
   "id": "158ecba01e60fb64",
   "metadata": {
    "jupyter": {
     "is_executing": true
    }
   },
   "outputs": [],
   "source": [
    "# Define a toy_dataset with smaller numbers: \n",
    "\n",
    "images_th_glioma = images_th[0:100]\n",
    "images_th_meningioma = images_th[5000:5100]\n",
    "images_th_tumor = images_th[10000:10100]\n",
    "labels_glioma = labels[0:100]\n",
    "labels_meningioma = labels[5000:5100]\n",
    "labels_tumor = labels[10000:10100]"
   ]
  },
  {
   "cell_type": "code",
   "execution_count": 17,
   "id": "9028bddb9b968f76",
   "metadata": {
    "ExecuteTime": {
     "end_time": "2024-06-26T14:09:18.338376Z",
     "start_time": "2024-06-26T14:09:18.336683Z"
    }
   },
   "outputs": [],
   "source": [
    "images_combined = torch.cat((images_th_glioma, images_th_meningioma, images_th_tumor), dim=0)\n",
    "labels_combined = torch.cat((labels_glioma, labels_meningioma, labels_tumor), dim=0)"
   ]
  },
  {
   "cell_type": "code",
   "execution_count": 18,
   "id": "a78c7b7d-e10b-4aed-8e51-81ecac73c6c6",
   "metadata": {},
   "outputs": [],
   "source": [
    "small_dataset = Dataset(images_combined, labels_combined)"
   ]
  },
  {
   "cell_type": "code",
   "execution_count": 19,
   "id": "61323b5d-6945-4688-b69b-f4eecc6b4f35",
   "metadata": {},
   "outputs": [],
   "source": [
    "torch.save(small_dataset, 'data/brain_cancer_dataset_small.pt')"
   ]
  }
 ],
 "metadata": {
  "kernelspec": {
   "display_name": "Python 3 (ipykernel)",
   "language": "python",
   "name": "python3"
  },
  "language_info": {
   "codemirror_mode": {
    "name": "ipython",
    "version": 3
   },
   "file_extension": ".py",
   "mimetype": "text/x-python",
   "name": "python",
   "nbconvert_exporter": "python",
   "pygments_lexer": "ipython3",
   "version": "3.9.18"
  }
 },
 "nbformat": 4,
 "nbformat_minor": 5
}
