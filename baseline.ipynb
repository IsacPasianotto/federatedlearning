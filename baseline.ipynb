{
 "cells": [
  {
   "cell_type": "code",
   "execution_count": 1,
   "id": "f198489d-6b2e-4193-8d34-bc4b91dfd4f5",
   "metadata": {},
   "outputs": [],
   "source": [
    "import os\n",
    "import sys\n",
    "import copy\n",
    "import torch as th\n",
    "\n",
    "# Defined modules:\n",
    "from settings import *\n",
    "from modules.dataset import Dataset, buildDataloaders\n",
    "from modules.networks import BrainClassifier\n",
    "from modules.traintest import *"
   ]
  },
  {
   "cell_type": "code",
   "execution_count": 2,
   "id": "ac8b948a-679b-4d1d-95e3-fc05e457671a",
   "metadata": {},
   "outputs": [],
   "source": [
    "data = th.load(\"data/BrainCancerDataset.pt\")"
   ]
  },
  {
   "cell_type": "code",
   "execution_count": 3,
   "id": "1bf6c198-e521-4bd3-a619-3423986de6e9",
   "metadata": {},
   "outputs": [],
   "source": [
    "device = th.device(f\"cuda:{th.cuda.current_device()}\")\n",
    "model = BrainClassifier().to(device)"
   ]
  },
  {
   "cell_type": "code",
   "execution_count": 4,
   "id": "091334a2-dec1-44e2-8455-a9ba6711bc07",
   "metadata": {},
   "outputs": [],
   "source": [
    "train_loader, val_loader, test_loader = buildDataloaders(data)"
   ]
  },
  {
   "cell_type": "code",
   "execution_count": null,
   "id": "d0c12c58-45b0-4a00-b775-34f2727076a3",
   "metadata": {},
   "outputs": [],
   "source": [
    "nEpochs = 100\n",
    "lr = 1e-5\n",
    "weight_decay = 1e-4\n",
    "net_weights, train_losses, val_losses = train(model, device, train_loader, val_loader, nEpochs, lr, weight_decay) "
   ]
  },
  {
   "cell_type": "code",
   "execution_count": null,
   "id": "c6db3e29-2ce3-4458-a127-de108d0b410a",
   "metadata": {},
   "outputs": [],
   "source": [
    "acc = test(model, device, test_loader)"
   ]
  },
  {
   "cell_type": "code",
   "execution_count": null,
   "id": "fafecd68-3806-4039-ab36-547cd655d1b3",
   "metadata": {},
   "outputs": [],
   "source": [
    "trLosses_file = \"baselineResults/train_losses.csv\"\n",
    "with open(trLosses_file, \"w\") as f:\n",
    "    for loss in train_losses:\n",
    "        f.write(loss)\n",
    "\n",
    "valLosses_file = \"baselineResults/val_losses.csv\"\n",
    "with open(valLosses_file, \"w\") as f:\n",
    "    for loss in val_losses:\n",
    "        f.write(loss)"
   ]
  }
 ],
 "metadata": {
  "kernelspec": {
   "display_name": "Python 3 (ipykernel)",
   "language": "python",
   "name": "python3"
  },
  "language_info": {
   "codemirror_mode": {
    "name": "ipython",
    "version": 3
   },
   "file_extension": ".py",
   "mimetype": "text/x-python",
   "name": "python",
   "nbconvert_exporter": "python",
   "pygments_lexer": "ipython3",
   "version": "3.10.12"
  }
 },
 "nbformat": 4,
 "nbformat_minor": 5
}
