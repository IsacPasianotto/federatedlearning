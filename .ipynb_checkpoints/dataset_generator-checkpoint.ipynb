{
 "cells": [
  {
   "cell_type": "code",
   "execution_count": 1,
   "id": "initial_id",
   "metadata": {
    "ExecuteTime": {
     "end_time": "2024-06-26T14:08:52.357991Z",
     "start_time": "2024-06-26T14:08:47.598748Z"
    }
   },
   "outputs": [],
   "source": [
    "import os\n",
    "import torch\n",
    "import torchvision as tv"
   ]
  },
  {
   "cell_type": "code",
   "execution_count": 2,
   "id": "2c630171b861d240",
   "metadata": {
    "ExecuteTime": {
     "end_time": "2024-06-26T14:08:52.362865Z",
     "start_time": "2024-06-26T14:08:52.359793Z"
    }
   },
   "outputs": [],
   "source": [
    "# constants\n",
    "ZIP_FILE='BrainCancer.zip'\n",
    "DATA_DIR = 'data/Brain Cancer'"
   ]
  },
  {
   "cell_type": "code",
   "execution_count": 8,
   "id": "2bed9799d2922df4",
   "metadata": {
    "ExecuteTime": {
     "end_time": "2024-06-26T14:08:52.377577Z",
     "start_time": "2024-06-26T14:08:52.364264Z"
    }
   },
   "outputs": [
    {
     "name": "stdout",
     "output_type": "stream",
     "text": [
      "Data already extracted!\n",
      "skipping ....\n"
     ]
    }
   ],
   "source": [
    "# check if ./data dir is empty (expected only the .gitkeep file)\n",
    "if len(os.listdir('./data')) > 3:\n",
    "    print('Data already extracted!\\nskipping ....')\n",
    "else:\n",
    "    os.system(f'unzip {ZIP_FILE} -d ./data')\n",
    "    print('\\n\\nData extracted!')"
   ]
  },
  {
   "cell_type": "code",
   "execution_count": 4,
   "id": "5829ef9646f24aa9",
   "metadata": {
    "ExecuteTime": {
     "end_time": "2024-06-26T14:08:52.496510Z",
     "start_time": "2024-06-26T14:08:52.378855Z"
    }
   },
   "outputs": [],
   "source": [
    "DATA_PATHS = []  # list of test data paths\n",
    "for dirname, _, filenames in os.walk(DATA_DIR):\n",
    "    for filename in filenames:\n",
    "      # check if is a file or a folder\n",
    "        if os.path.isdir(os.path.join(dirname, filename)):\n",
    "            continue\n",
    "        DATA_PATHS.append(os.path.join(dirname, filename))"
   ]
  },
  {
   "cell_type": "code",
   "execution_count": null,
   "id": "639c509de1d83800",
   "metadata": {
    "ExecuteTime": {
     "end_time": "2024-06-26T14:09:16.579447Z",
     "start_time": "2024-06-26T14:08:52.498912Z"
    }
   },
   "outputs": [],
   "source": [
    "# read the images as a tensor with torchvision\n",
    "images = [tv.io.read_image(img) for img in DATA_PATHS]"
   ]
  },
  {
   "cell_type": "code",
   "execution_count": null,
   "id": "b468bed260890c64",
   "metadata": {
    "ExecuteTime": {
     "end_time": "2024-06-26T14:09:16.845059Z",
     "start_time": "2024-06-26T14:09:16.581171Z"
    }
   },
   "outputs": [],
   "source": [
    "# Assign the labels to the images (files are named with the correct classification)\n",
    "\n",
    "# code: \n",
    "#  1 --> brain glioma\n",
    "#  2 --> meningioma\n",
    "#  3 --> tumor\n",
    "\n",
    "data_len = len(DATA_PATHS)\n",
    "labels = torch.zeros(data_len)\n",
    "\n",
    "for i, img in enumerate(DATA_PATHS):\n",
    "    if 'glioma' in img:\n",
    "        labels[i] = 1\n",
    "    elif 'menin' in img:\n",
    "        labels[i] = 2\n",
    "    elif 'tumor' in img:\n",
    "        labels[i] = 3"
   ]
  },
  {
   "cell_type": "code",
   "execution_count": null,
   "id": "158ecba01e60fb64",
   "metadata": {
    "jupyter": {
     "is_executing": true
    }
   },
   "outputs": [],
   "source": [
    "# Associate the labels with the images keeping the same order and create a tensor dataset\n",
    "dataset = torch.utils.data.TensorDataset(torch.stack(images), labels)\n",
    "# save the dataset: \n",
    "torch.save(dataset, 'data/brain_cancer_dataset.pt')\n"
   ]
  },
  {
   "cell_type": "code",
   "execution_count": null,
   "id": "9028bddb9b968f76",
   "metadata": {
    "ExecuteTime": {
     "end_time": "2024-06-26T14:09:18.338376Z",
     "start_time": "2024-06-26T14:09:18.336683Z"
    }
   },
   "outputs": [],
   "source": []
  }
 ],
 "metadata": {
  "kernelspec": {
   "display_name": "Python 3 (ipykernel)",
   "language": "python",
   "name": "python3"
  },
  "language_info": {
   "codemirror_mode": {
    "name": "ipython",
    "version": 3
   },
   "file_extension": ".py",
   "mimetype": "text/x-python",
   "name": "python",
   "nbconvert_exporter": "python",
   "pygments_lexer": "ipython3",
   "version": "3.9.18"
  }
 },
 "nbformat": 4,
 "nbformat_minor": 5
}
