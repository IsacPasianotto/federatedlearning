{
 "cells": [
  {
   "cell_type": "code",
   "id": "initial_id",
   "metadata": {
    "collapsed": true,
    "ExecuteTime": {
     "end_time": "2024-06-28T12:26:22.377054Z",
     "start_time": "2024-06-28T12:26:22.366994Z"
    }
   },
   "source": [
    "#import matplotlib.pyplot as plt\n",
    "import torch\n",
    "\n",
    "import torch.nn as nn\n",
    "import torch.nn.functional as F\n",
    "import torch.optim as optim"
   ],
   "outputs": [],
   "execution_count": 6
  },
  {
   "metadata": {
    "ExecuteTime": {
     "end_time": "2024-06-28T12:20:46.184589Z",
     "start_time": "2024-06-28T12:20:45.958551Z"
    }
   },
   "cell_type": "code",
   "source": [
    "# load the data\n",
    "data = torch.load('data/brain_cancer_dataset_small.pt')"
   ],
   "id": "e7cd564454eb7ebf",
   "outputs": [],
   "execution_count": 2
  },
  {
   "metadata": {
    "ExecuteTime": {
     "end_time": "2024-06-28T12:29:25.056755Z",
     "start_time": "2024-06-28T12:29:25.043648Z"
    }
   },
   "cell_type": "code",
   "source": [
    "device = torch.device('cuda' if torch.cuda.is_available() else 'cpu')\n",
    "print(f\"Using device: {device}\")"
   ],
   "id": "a6012ec34a1726fa",
   "outputs": [
    {
     "name": "stdout",
     "output_type": "stream",
     "text": [
      "Using device: cpu\n"
     ]
    }
   ],
   "execution_count": 8
  },
  {
   "metadata": {
    "ExecuteTime": {
     "end_time": "2024-06-28T12:22:27.725908Z",
     "start_time": "2024-06-28T12:22:27.580871Z"
    }
   },
   "cell_type": "code",
   "source": [
    "# split the data into training , validation and test sets\n",
    "# in total we have 300 samples:\n",
    "# 200 training samples\n",
    "# 50 validation samples\n",
    "# 50 test samples\n",
    "\n",
    "# they are ordered, hence before splitting we shuffle the data\n",
    "torch.manual_seed(0)\n",
    "data = data[torch.randperm(len(data))]\n",
    "\n",
    "# split the data\n",
    "train_data = data[:200]\n",
    "val_data = data[200:250]\n",
    "test_data = data[250:]"
   ],
   "id": "4101b98acf13bce6",
   "outputs": [],
   "execution_count": 5
  },
  {
   "metadata": {
    "ExecuteTime": {
     "end_time": "2024-06-28T12:26:36.586593Z",
     "start_time": "2024-06-28T12:26:36.569363Z"
    }
   },
   "cell_type": "code",
   "source": [
    "# define the model\n",
    "\n",
    "# architecture: \n",
    "\n",
    "# input -> conv1 -> maxpool -> conv2 -> maxpool -> conv3 -> maxpool -> flatten -> -> dense(sofmax)\n",
    "\n",
    "class brain_classifier(nn.Module):\n",
    "    def __init__(self):\n",
    "        super(ConvNet, self).__init__()\n",
    "        \n",
    "        # Define layers\n",
    "        self.conv1 = nn.Conv2d(in_channels=3, out_channels=64, kernel_size=3, stride=2, padding=1)\n",
    "        self.pool1 = nn.MaxPool2d(kernel_size=2, stride=2)\n",
    "        \n",
    "        self.conv2 = nn.Conv2d(in_channels=64, out_channels=32, kernel_size=3, stride=2, padding=1)\n",
    "        self.pool2 = nn.MaxPool2d(kernel_size=2, stride=2)\n",
    "        \n",
    "        self.conv3 = nn.Conv2d(in_channels=32, out_channels=32, kernel_size=3, stride=2, padding=1)\n",
    "        self.pool3 = nn.MaxPool2d(kernel_size=2)\n",
    "        \n",
    "        self.flatten = nn.Flatten()\n",
    "        self.fc = nn.Linear(in_features=32*2*2, out_features=4)\n",
    "    \n",
    "    def forward(self, x):\n",
    "        x = F.relu(self.conv1(x))\n",
    "        x = self.pool1(x)\n",
    "        \n",
    "        x = F.relu(self.conv2(x))\n",
    "        x = self.pool2(x)\n",
    "        \n",
    "        x = F.relu(self.conv3(x))\n",
    "        x = self.pool3(x)\n",
    "        \n",
    "        x = self.flatten(x)\n",
    "        x = self.fc(x)\n",
    "        x = F.softmax(x, dim=1)\n",
    "        \n",
    "        return x\n"
   ],
   "id": "4964f602b0b5cf63",
   "outputs": [],
   "execution_count": 7
  },
  {
   "metadata": {},
   "cell_type": "code",
   "outputs": [],
   "execution_count": null,
   "source": [
    "# Define the training loop\n",
    "def train(model, train_data, val_data, epochs=10, lr=0.001):\n",
    "    # Define the loss function\n",
    "    criterion = nn.CrossEntropyLoss()\n",
    "    # Define the optimizer\n",
    "    optimizer = optim.Adam(model.parameters(), lr=lr)\n",
    "    \n",
    "    # Store the losses\n",
    "    train_losses = []\n",
    "    val_losses = []\n",
    "    \n",
    "    # Move model to the appropriate device\n",
    "    model.to(device)\n",
    "    \n",
    "    for epoch in range(epochs):\n",
    "        # Set the model to training mode\n",
    "        model.train()\n",
    "        \n",
    "        # Iterate over the training data\n",
    "        for i, (x, y) in enumerate(train_data):\n",
    "            # Move data to the appropriate device\n",
    "            x, y = x.to(device), y.to(device)\n",
    "            \n",
    "            # Zero the gradients\n",
    "            optimizer.zero_grad()\n",
    "            # Forward pass\n",
    "            y_pred = model(x)\n",
    "            # Compute the loss\n",
    "            loss = criterion(y_pred, y)\n",
    "            # Backward pass\n",
    "            loss.backward()\n",
    "            # Update the weights\n",
    "            optimizer.step()\n",
    "            # Store the loss\n",
    "            train_losses.append(loss.item())\n",
    "            # Print the loss\n",
    "            if i % 10 == 0:\n",
    "                print(f'Epoch {epoch}, Iteration {i}, Loss {loss.item()}')\n",
    "        \n",
    "        # Set the model to evaluation mode\n",
    "        model.eval()\n",
    "        # Compute the validation loss\n",
    "        val_loss = 0\n",
    "        with torch.no_grad():\n",
    "            for x, y in val_data:\n",
    "                # Move data to the appropriate device\n",
    "                x, y = x.to(device), y.to(device)\n",
    "                y_pred = model(x)\n",
    "                loss = criterion(y_pred, y)\n",
    "                val_loss += loss.item()\n",
    "                \n",
    "        val_losses.append(val_loss/len(val_data))\n",
    "        \n",
    "        print(f'Epoch {epoch}, Validation Loss {val_loss/len(val_data)}')\n",
    "        \n",
    "    return train_losses, val_losses"
   ],
   "id": "28c5deb61e83d28b"
  },
  {
   "metadata": {},
   "cell_type": "code",
   "outputs": [],
   "execution_count": null,
   "source": [
    "# Example instantiation and training\n",
    "model = brain_classifier()"
   ],
   "id": "76d9637220edc1ae"
  },
  {
   "metadata": {},
   "cell_type": "code",
   "outputs": [],
   "execution_count": null,
   "source": "train_losses, val_losses = train(model, train_data, val_data, epochs=10, lr=0.001)",
   "id": "440cc3f9e9008b8a"
  },
  {
   "metadata": {},
   "cell_type": "code",
   "outputs": [],
   "execution_count": null,
   "source": "# Plot the losses",
   "id": "5f571734f180b29e"
  }
 ],
 "metadata": {
  "kernelspec": {
   "display_name": "Python 3",
   "language": "python",
   "name": "python3"
  },
  "language_info": {
   "codemirror_mode": {
    "name": "ipython",
    "version": 2
   },
   "file_extension": ".py",
   "mimetype": "text/x-python",
   "name": "python",
   "nbconvert_exporter": "python",
   "pygments_lexer": "ipython2",
   "version": "2.7.6"
  }
 },
 "nbformat": 4,
 "nbformat_minor": 5
}
