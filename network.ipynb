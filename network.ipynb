{
 "cells": [
  {
   "cell_type": "code",
   "execution_count": 1,
   "id": "initial_id",
   "metadata": {
    "ExecuteTime": {
     "end_time": "2024-07-01T10:09:38.526179Z",
     "start_time": "2024-07-01T10:09:38.522550Z"
    }
   },
   "outputs": [],
   "source": [
    "import matplotlib.pyplot as plt\n",
    "import torch\n",
    "import time\n",
    "\n",
    "import torch.nn as nn\n",
    "import torch.nn.functional as F\n",
    "import torch.optim as optim\n",
    "from torchvision import transforms, datasets\n",
    "from torch.utils.data import DataLoader\n",
    "from tqdm import trange"
   ]
  },
  {
   "cell_type": "code",
   "execution_count": 2,
   "id": "cee82207-8b09-4c97-be8b-e4f725e8885e",
   "metadata": {
    "ExecuteTime": {
     "end_time": "2024-07-01T10:03:46.595694Z",
     "start_time": "2024-07-01T10:03:46.591884Z"
    }
   },
   "outputs": [],
   "source": [
    "# class Dataset(torch.utils.data.Dataset):\n",
    "#     \"\"\"\n",
    "#     Class overloading the torch.utils.data.Dataset class to \n",
    "#     create a custom dataset object\n",
    "#     \"\"\"\n",
    "# \n",
    "#     def __init__ (self, x, y):\n",
    "#         self.x = x\n",
    "#         self.y = y\n",
    "#         # type casting to avoid errors and warnings with the network\n",
    "#         self.x = self.x.float()\n",
    "#         self.y = self.y.long()\n",
    "# \n",
    "#     def __len__ (self): \n",
    "#         return(len(self.y))\n",
    "# \n",
    "#     def __getitem__ (self, idx):\n",
    "#        return self.x[idx], self.y[idx]"
   ]
  },
  {
   "cell_type": "code",
   "execution_count": 3,
   "id": "6bb062f0-17d1-414e-920d-868fa3c194fb",
   "metadata": {},
   "outputs": [],
   "source": [
    "class Dataset(torch.utils.data.Dataset):\n",
    "    \"\"\"\n",
    "    overload dataset\n",
    "    \"\"\"\n",
    "\n",
    "    def __init__ (self, images, labels):\n",
    "        self.images = images\n",
    "        self.labels = labels\n",
    "        self.images = self.images.float()\n",
    "        self.labels = self.labels.long()\n",
    "\n",
    "    def __len__ (self): \n",
    "        return(len(self.images))\n",
    "\n",
    "    def __getitem__ (self, idx):\n",
    "        return self.images[idx], self.labels[idx]\n",
    "    \n",
    "    def shuffle(self):\n",
    "        idx = torch.randperm(self.__len__())\n",
    "        self.images = self.images[idx]\n",
    "        self.labels = self.labels[idx]\n",
    "    \n",
    "    def train_val_test_split(self, train_percentage=0.7, val_percentage=0.15, test_percentage=0.15):\n",
    "        # split the data\n",
    "        self.shuffle()\n",
    "        train_data = self[:int(train_percentage*self.__len__())]\n",
    "        val_data = self[int(train_percentage*self.__len__()):int((train_percentage+val_percentage)*self.__len__())]\n",
    "        test_data = self[int((train_percentage+val_percentage)*self.__len__()):]\n",
    "        return Dataset(train_data[0], train_data[1]), Dataset(val_data[0], val_data[1]), Dataset(test_data[0], test_data[1])"
   ]
  },
  {
   "cell_type": "code",
   "execution_count": 4,
   "id": "e7cd564454eb7ebf",
   "metadata": {
    "ExecuteTime": {
     "end_time": "2024-07-01T10:03:46.720407Z",
     "start_time": "2024-07-01T10:03:46.597549Z"
    }
   },
   "outputs": [],
   "source": [
    "# load the data\n",
    "data = torch.load('data/leukemia/leukemia_dataset.pt')"
   ]
  },
  {
   "cell_type": "code",
   "execution_count": 5,
   "id": "a6012ec34a1726fa",
   "metadata": {
    "ExecuteTime": {
     "end_time": "2024-07-01T10:03:46.726076Z",
     "start_time": "2024-07-01T10:03:46.722696Z"
    }
   },
   "outputs": [
    {
     "name": "stdout",
     "output_type": "stream",
     "text": [
      "Using device: cuda\n"
     ]
    }
   ],
   "source": [
    "device = torch.device('cuda' if torch.cuda.is_available() else 'cpu')\n",
    "print(f\"Using device: {device}\")"
   ]
  },
  {
   "cell_type": "code",
   "execution_count": 6,
   "id": "4964f602b0b5cf63",
   "metadata": {
    "ExecuteTime": {
     "end_time": "2024-07-01T10:03:46.755446Z",
     "start_time": "2024-07-01T10:03:46.746476Z"
    }
   },
   "outputs": [],
   "source": [
    "class BrainClassifier(nn.Module):\n",
    "    def __init__(self):\n",
    "        super(BrainClassifier, self).__init__()\n",
    "\n",
    "        # Define layers\n",
    "        self.conv1 = nn.Conv2d(in_channels=3, out_channels=16, kernel_size=3, stride=1, padding=1)  # RGB images\n",
    "        # self.conv1 = nn.Conv2d(in_channels=1, out_channels=16, kernel_size=3, stride=1, padding=1)  # greyscale images\n",
    "        self.pool1 = nn.MaxPool2d(kernel_size=2, stride=2)\n",
    "\n",
    "        self.conv2 = nn.Conv2d(in_channels=16, out_channels=32, kernel_size=3, stride=1, padding=1)\n",
    "        self.pool2 = nn.MaxPool2d(kernel_size=2, stride=2)\n",
    "\n",
    "        self.conv3 = nn.Conv2d(in_channels=32, out_channels=64, kernel_size=3, stride=1, padding=1)\n",
    "        self.pool3 = nn.MaxPool2d(kernel_size=2, stride=2)\n",
    "\n",
    "        self.flatten = nn.Flatten()\n",
    "\n",
    "        # Calculate the input size of the fully connected layer according to the output of the conv layers\n",
    "        fc_input_size = 64 * 64 * 64\n",
    "        self.fc = nn.Linear(fc_input_size, 3) # 3 classes\n",
    "\n",
    "    def forward(self, x):\n",
    "        x = F.relu(self.conv1(x))\n",
    "        x = self.pool1(x)\n",
    "\n",
    "        x = F.relu(self.conv2(x))\n",
    "        x = self.pool2(x)\n",
    "\n",
    "        x = F.relu(self.conv3(x))\n",
    "        x = self.pool3(x)\n",
    "\n",
    "        x = self.flatten(x)\n",
    "\n",
    "        x = self.fc(x)\n",
    "        # by default CrossEntropyLoss compute the softmax itself.\n",
    "        # if leaved uncommented somewhy (????) the model does not learn \n",
    "        # remeber to put by hand when you do predictions\n",
    "        # x = F.softmax(x, dim=1)  \n",
    "        return x\n"
   ]
  },
  {
   "cell_type": "code",
   "execution_count": 7,
   "id": "1ff8f96f-c889-4aae-b0c5-53a3a50d35cf",
   "metadata": {},
   "outputs": [],
   "source": [
    "class LeukemiaClassifier(nn.Module):\n",
    "    def __init__(self):\n",
    "        super(LeukemiaClassifier, self).__init__()\n",
    "\n",
    "        # Define layers\n",
    "        self.conv1 = nn.Conv2d(in_channels=3, out_channels=16, kernel_size=3, stride=1, padding=1)  # RGB images\n",
    "        self.pool1 = nn.MaxPool2d(kernel_size=2, stride=2)\n",
    "\n",
    "        self.conv2 = nn.Conv2d(in_channels=16, out_channels=32, kernel_size=3, stride=1, padding=1)\n",
    "        self.pool2 = nn.MaxPool2d(kernel_size=2, stride=2)\n",
    "\n",
    "        self.conv3 = nn.Conv2d(in_channels=32, out_channels=64, kernel_size=3, stride=1, padding=1)\n",
    "        self.pool3 = nn.MaxPool2d(kernel_size=2, stride=2)\n",
    "\n",
    "        self.flatten = nn.Flatten()\n",
    "\n",
    "        # Calculate the input size of the fully connected layer according to the output of the conv layers\n",
    "        fc_input_size = 64 * 28 * 28  # Adjusted for 224x224 input size\n",
    "        self.fc = nn.Linear(fc_input_size, 4) # Adjusted for 4 classes\n",
    "\n",
    "    def forward(self, x):\n",
    "        x = F.relu(self.conv1(x))\n",
    "        x = self.pool1(x)\n",
    "\n",
    "        x = F.relu(self.conv2(x))\n",
    "        x = self.pool2(x)\n",
    "\n",
    "        x = F.relu(self.conv3(x))\n",
    "        x = self.pool3(x)\n",
    "\n",
    "        x = self.flatten(x)\n",
    "\n",
    "        x = self.fc(x)\n",
    "        return x"
   ]
  },
  {
   "cell_type": "code",
   "execution_count": 8,
   "id": "74e3a865-323f-489c-b4a9-bab3c8ff4327",
   "metadata": {},
   "outputs": [],
   "source": [
    "class minst_classifier(nn.Module):\n",
    "    def __init__(self):\n",
    "        super(minst_classifier, self).__init__()\n",
    "\n",
    "        # Define layers\n",
    "        self.conv1 = nn.Conv2d(in_channels=1, out_channels=16, kernel_size=3, stride=1, padding=1)\n",
    "        self.pool1 = nn.MaxPool2d(kernel_size=2, stride=2)\n",
    "\n",
    "        self.conv2 = nn.Conv2d(in_channels=16, out_channels=32, kernel_size=3, stride=1, padding=1)\n",
    "        self.pool2 = nn.MaxPool2d(kernel_size=2, stride=2)\n",
    "\n",
    "        self.conv3 = nn.Conv2d(in_channels=32, out_channels=64, kernel_size=3, stride=1, padding=1)\n",
    "        self.pool3 = nn.MaxPool2d(kernel_size=2, stride=2)\n",
    "\n",
    "        # Calculate the flattened size\n",
    "        self.flatten_size = 64 * 3 * 3  # Adjusted from 4*4 to 3*3\n",
    "        self.flatten = nn.Flatten()\n",
    "        self.fc = nn.Linear(self.flatten_size, 10)  # Adjust accordingly\n",
    "\n",
    "    def forward(self, x):\n",
    "        x = F.relu(self.conv1(x))\n",
    "        x = self.pool1(x)\n",
    "\n",
    "        x = F.relu(self.conv2(x))\n",
    "        x = self.pool2(x)\n",
    "\n",
    "        x = F.relu(self.conv3(x))\n",
    "        x = self.pool3(x)\n",
    "\n",
    "        x = self.flatten(x)\n",
    "        x = self.fc(x)\n",
    "        x = F.softmax(x, dim=1)\n",
    "\n",
    "        return x"
   ]
  },
  {
   "cell_type": "code",
   "execution_count": 9,
   "id": "28c5deb61e83d28b",
   "metadata": {
    "ExecuteTime": {
     "end_time": "2024-07-01T10:03:46.770594Z",
     "start_time": "2024-07-01T10:03:46.763063Z"
    }
   },
   "outputs": [],
   "source": [
    "# Define the training loop\n",
    "def train(model, train_data, val_data, epochs=10, lr=0.001):\n",
    "    # Define the loss function\n",
    "    criterion = nn.CrossEntropyLoss()\n",
    "    # Define the optimizer\n",
    "    optimizer = optim.Adam(model.parameters(), lr=lr)\n",
    "\n",
    "    # Store the losses\n",
    "    train_losses = []\n",
    "    val_losses = []\n",
    "\n",
    "    # Move model to the appropriate device\n",
    "    # device = torch.device(\"cuda\" if torch.cuda.is_available() else \"cpu\")\n",
    "    model.to(device)\n",
    "\n",
    "    for epoch in trange(epochs):\n",
    "        # Set the model to training mode\n",
    "        model.train()\n",
    "\n",
    "        # Iterate over the training data\n",
    "        for i, (img, label) in enumerate(train_data):\n",
    "            # Move data to the appropriate device\n",
    "            img, label = img.to(device), label.to(device)\n",
    "\n",
    "            # Zero the gradients\n",
    "            optimizer.zero_grad()\n",
    "            # Forward pass\n",
    "            y_pred = model(img)\n",
    "            # Compute the loss\n",
    "            loss = criterion(y_pred, label.long())\n",
    "            # Backward pass\n",
    "            loss.backward()\n",
    "            # Update the weights\n",
    "            optimizer.step()\n",
    "            # Store the loss\n",
    "            train_losses.append(loss.item())\n",
    "            # Print the loss\n",
    "            # if i % 10 == 0:\n",
    "            #     print(f'Epoch {epoch}, Iteration {i}, Loss {loss.item()}')\n",
    "\n",
    "        # Set the model to evaluation mode\n",
    "        model.eval()\n",
    "        # Compute the validation loss\n",
    "        val_loss = 0\n",
    "        with torch.no_grad():\n",
    "            for img, label in val_data:\n",
    "                # Move data to the appropriate device\n",
    "                img, label = img.to(device), label.to(device)\n",
    "                y_pred = model(img)\n",
    "                loss = criterion(y_pred, label.long())\n",
    "                val_loss += loss.item()\n",
    "\n",
    "        val_losses.append(val_loss / len(val_data))\n",
    "\n",
    "        if epoch % 5 == 0:\n",
    "            print(f'Epoch {epoch}, Validation Loss {val_loss / len(val_data)}')\n",
    "\n",
    "    return train_losses, val_losses"
   ]
  },
  {
   "cell_type": "code",
   "execution_count": 10,
   "id": "12840732-1fb9-43cc-8500-bdad7e576101",
   "metadata": {},
   "outputs": [],
   "source": [
    "#  set the seed before the split\n",
    "torch.manual_seed(42)\n",
    "data_train, data_val, data_test = data.train_val_test_split()\n",
    "\n",
    "# Create the DataLoaders\n",
    "train_loader = DataLoader(data_train, batch_size=32, shuffle=True)\n",
    "val_loader = DataLoader(data_val, batch_size=32, shuffle=False)\n",
    "test_loader = DataLoader(data_test, batch_size=data_test.__len__(), shuffle=False)\n"
   ]
  },
  {
   "cell_type": "code",
   "execution_count": 11,
   "id": "2c66ac8e8f19dcd0",
   "metadata": {
    "ExecuteTime": {
     "end_time": "2024-07-01T10:03:46.851669Z",
     "start_time": "2024-07-01T10:03:46.779892Z"
    }
   },
   "outputs": [],
   "source": [
    "# Test with the NIST dataset\n",
    "\n",
    "# Define the transformations\n",
    "# transform = transforms.Compose([\n",
    "#     transforms.ToTensor(),  # Converts to float32 and scales to [0, 1]\n",
    "#     transforms.Normalize((0.5,), (0.5,))  # Normalize with mean 0.5 and std 0.5 (example values, adjust if needed)\n",
    "# ])\n",
    "\n",
    "# Load the dataset\n",
    "# train_dataset = datasets.MNIST(root='./data', train=True, transform=transform, download=True)\n",
    "# val_dataset = datasets.MNIST(root='./data', train=False, transform=transform, download=True)\n",
    "\n",
    "# # Create data loaders\n",
    "\n",
    "# train_loader = DataLoader(train_dataset, batch_size=32, shuffle=True)\n",
    "# val_loader = DataLoader(val_dataset, batch_size=32, shuffle=False)\n",
    "\n",
    "# model = minst_classifier()\n"
   ]
  },
  {
   "cell_type": "code",
   "execution_count": 12,
   "id": "440cc3f9e9008b8a",
   "metadata": {
    "ExecuteTime": {
     "end_time": "2024-07-01T10:08:49.203801Z",
     "start_time": "2024-07-01T10:03:46.853279Z"
    }
   },
   "outputs": [
    {
     "name": "stderr",
     "output_type": "stream",
     "text": [
      "  0%|                                                                              | 0/75 [00:00<?, ?it/s]/orfeo/cephfs/home/dssc/ipasia00/deepenv/lib64/python3.9/site-packages/torch/nn/modules/conv.py:456: UserWarning: Attempt to open cnn_infer failed: handle=0 error: libcudnn_cnn_infer.so.8: cannot open shared object file: No such file or directory (Triggered internally at ../aten/src/ATen/native/cudnn/Conv_v8.cpp:81.)\n",
      "  return F.conv2d(input, weight, bias, self.stride,\n",
      "  1%|▉                                                                     | 1/75 [00:01<01:48,  1.46s/it]"
     ]
    },
    {
     "name": "stdout",
     "output_type": "stream",
     "text": [
      "Epoch 0, Validation Loss 0.8420658558607101\n"
     ]
    },
    {
     "name": "stderr",
     "output_type": "stream",
     "text": [
      "  8%|█████▌                                                                | 6/75 [00:07<01:19,  1.15s/it]"
     ]
    },
    {
     "name": "stdout",
     "output_type": "stream",
     "text": [
      "Epoch 5, Validation Loss 0.5224240701645613\n"
     ]
    },
    {
     "name": "stderr",
     "output_type": "stream",
     "text": [
      " 15%|██████████                                                           | 11/75 [00:12<01:11,  1.11s/it]"
     ]
    },
    {
     "name": "stdout",
     "output_type": "stream",
     "text": [
      "Epoch 10, Validation Loss 0.6180852921679616\n"
     ]
    },
    {
     "name": "stderr",
     "output_type": "stream",
     "text": [
      " 21%|██████████████▋                                                      | 16/75 [00:18<01:04,  1.10s/it]"
     ]
    },
    {
     "name": "stdout",
     "output_type": "stream",
     "text": [
      "Epoch 15, Validation Loss 1.0239964425563812\n"
     ]
    },
    {
     "name": "stderr",
     "output_type": "stream",
     "text": [
      " 28%|███████████████████▎                                                 | 21/75 [00:23<00:59,  1.10s/it]"
     ]
    },
    {
     "name": "stdout",
     "output_type": "stream",
     "text": [
      "Epoch 20, Validation Loss 1.389097482257057\n"
     ]
    },
    {
     "name": "stderr",
     "output_type": "stream",
     "text": [
      " 35%|███████████████████████▉                                             | 26/75 [00:29<00:54,  1.12s/it]"
     ]
    },
    {
     "name": "stdout",
     "output_type": "stream",
     "text": [
      "Epoch 25, Validation Loss 1.3769159922376275\n"
     ]
    },
    {
     "name": "stderr",
     "output_type": "stream",
     "text": [
      " 41%|████████████████████████████▌                                        | 31/75 [00:34<00:49,  1.12s/it]"
     ]
    },
    {
     "name": "stdout",
     "output_type": "stream",
     "text": [
      "Epoch 30, Validation Loss 1.5678843772038817\n"
     ]
    },
    {
     "name": "stderr",
     "output_type": "stream",
     "text": [
      " 48%|█████████████████████████████████                                    | 36/75 [00:40<00:44,  1.14s/it]"
     ]
    },
    {
     "name": "stdout",
     "output_type": "stream",
     "text": [
      "Epoch 35, Validation Loss 1.762133002281189\n"
     ]
    },
    {
     "name": "stderr",
     "output_type": "stream",
     "text": [
      " 55%|█████████████████████████████████████▋                               | 41/75 [00:46<00:38,  1.13s/it]"
     ]
    },
    {
     "name": "stdout",
     "output_type": "stream",
     "text": [
      "Epoch 40, Validation Loss 1.8256390243768692\n"
     ]
    },
    {
     "name": "stderr",
     "output_type": "stream",
     "text": [
      " 61%|██████████████████████████████████████████▎                          | 46/75 [00:51<00:32,  1.13s/it]"
     ]
    },
    {
     "name": "stdout",
     "output_type": "stream",
     "text": [
      "Epoch 45, Validation Loss 1.9527046009898186\n"
     ]
    },
    {
     "name": "stderr",
     "output_type": "stream",
     "text": [
      " 68%|██████████████████████████████████████████████▉                      | 51/75 [00:57<00:27,  1.13s/it]"
     ]
    },
    {
     "name": "stdout",
     "output_type": "stream",
     "text": [
      "Epoch 50, Validation Loss 2.00428512878716\n"
     ]
    },
    {
     "name": "stderr",
     "output_type": "stream",
     "text": [
      " 75%|███████████████████████████████████████████████████▌                 | 56/75 [01:02<00:20,  1.10s/it]"
     ]
    },
    {
     "name": "stdout",
     "output_type": "stream",
     "text": [
      "Epoch 55, Validation Loss 2.0520190875977278\n"
     ]
    },
    {
     "name": "stderr",
     "output_type": "stream",
     "text": [
      " 81%|████████████████████████████████████████████████████████             | 61/75 [01:08<00:15,  1.13s/it]"
     ]
    },
    {
     "name": "stdout",
     "output_type": "stream",
     "text": [
      "Epoch 60, Validation Loss 2.125937173143029\n"
     ]
    },
    {
     "name": "stderr",
     "output_type": "stream",
     "text": [
      " 88%|████████████████████████████████████████████████████████████▋        | 66/75 [01:14<00:10,  1.14s/it]"
     ]
    },
    {
     "name": "stdout",
     "output_type": "stream",
     "text": [
      "Epoch 65, Validation Loss 2.174422664567828\n"
     ]
    },
    {
     "name": "stderr",
     "output_type": "stream",
     "text": [
      " 95%|█████████████████████████████████████████████████████████████████▎   | 71/75 [01:19<00:04,  1.13s/it]"
     ]
    },
    {
     "name": "stdout",
     "output_type": "stream",
     "text": [
      "Epoch 70, Validation Loss 2.229642616584897\n"
     ]
    },
    {
     "name": "stderr",
     "output_type": "stream",
     "text": [
      "100%|█████████████████████████████████████████████████████████████████████| 75/75 [01:24<00:00,  1.13s/it]"
     ]
    },
    {
     "name": "stdout",
     "output_type": "stream",
     "text": [
      "Time elapsed:  84.63272047042847\n"
     ]
    },
    {
     "name": "stderr",
     "output_type": "stream",
     "text": [
      "\n"
     ]
    }
   ],
   "source": [
    "# Example instantiation and training\n",
    "# model = BrainClassifier()\n",
    "model = LeukemiaClassifier()\n",
    "tstart = time.time()\n",
    "\n",
    "train_losses, val_losses = train(model, train_loader, val_loader, epochs=75, lr=0.001)\n",
    "\n",
    "tend = time.time()\n",
    "print(\"Time elapsed: \", tend-tstart)"
   ]
  },
  {
   "cell_type": "code",
   "execution_count": 13,
   "id": "accdc5d14f252460",
   "metadata": {
    "ExecuteTime": {
     "end_time": "2024-07-01T10:11:41.023967Z",
     "start_time": "2024-07-01T10:11:40.801571Z"
    }
   },
   "outputs": [
    {
     "data": {
      "image/png": "[encoded data removed]",
      "text/plain": [
       "<Figure size 640x480 with 1 Axes>"
      ]
     },
     "metadata": {},
     "output_type": "display_data"
    }
   ],
   "source": [
    "# plot the losses\n",
    "plt.plot(val_losses, label='Validation Loss')\n",
    "plt.plot(train_losses, label='Training Loss')\n",
    "\n",
    "plt.xlabel('Iteration')\n",
    "plt.ylabel('Loss')\n",
    "plt.legend()\n",
    "plt.show()"
   ]
  },
  {
   "cell_type": "code",
   "execution_count": 14,
   "id": "49c179c7-7984-4772-9b88-15d7fab72f5b",
   "metadata": {},
   "outputs": [],
   "source": [
    "# Save the model weights\n",
    "torch.save(model.state_dict(), 'Leukemia_weights.pth')"
   ]
  },
  {
   "cell_type": "code",
   "execution_count": 15,
   "id": "9f963b20-5bcb-46a1-9ecd-1a9ffd9346da",
   "metadata": {},
   "outputs": [],
   "source": [
    "x, y = next(iter(test_loader))"
   ]
  },
  {
   "cell_type": "code",
   "execution_count": 16,
   "id": "355316fc-58fe-42e0-abe3-804499512ad4",
   "metadata": {},
   "outputs": [],
   "source": [
    "model.eval()\n",
    "y_pred = model(x.to(device)).argmax(1)"
   ]
  },
  {
   "cell_type": "code",
   "execution_count": 17,
   "id": "43b89e57-f280-48cf-aea4-e0a74cc86d53",
   "metadata": {},
   "outputs": [
    {
     "data": {
      "text/plain": [
       "tensor([3, 1, 1, 0, 3, 3, 2, 2, 1, 2, 1, 3, 0, 2, 0, 3, 2, 2, 3, 1, 1, 0, 1, 3,\n",
       "        3, 3, 3, 2, 2, 2, 2, 2, 0, 0, 1, 1, 2, 3, 3, 3, 2, 3, 1, 1, 0, 1, 0, 1,\n",
       "        1, 3, 0, 0, 1, 1, 2, 3, 2, 3, 0, 2, 0, 3, 2, 0, 0, 3, 2, 2, 2, 3, 1, 2,\n",
       "        1, 3, 3, 3, 2, 1, 2, 1, 0, 1, 0, 1, 2, 2, 3, 0, 3, 3, 2, 2, 0, 3, 3, 3,\n",
       "        2, 1, 2, 0, 0, 1, 2, 0, 0, 1, 1, 1, 2, 2, 2, 1, 0, 1, 3, 3, 1, 3, 1, 3,\n",
       "        2, 0, 2, 2, 1, 0, 3, 1, 2, 1, 3, 2, 0, 2, 2, 3, 1, 3, 0, 1, 2, 2, 2, 3,\n",
       "        3, 1, 2, 3, 2, 1, 2, 1, 3, 3, 1, 3, 1, 2, 1, 2, 3, 3, 3, 0, 2, 1, 1, 2,\n",
       "        2, 1, 2, 3, 2, 0, 3, 2, 2, 3, 0, 0, 0, 1, 2, 2, 1, 1, 3, 2, 0, 1, 1, 3,\n",
       "        0, 2, 1, 3, 1, 0, 2, 0, 3, 2, 1, 1, 3, 3, 2, 0, 2, 1, 0, 3, 2, 3, 2, 3,\n",
       "        3, 1, 0, 0, 1, 0, 2, 1, 2, 2, 2, 2, 0, 2, 1, 3, 1, 2, 3, 1, 0, 3, 0, 1,\n",
       "        1, 0, 2, 2, 2, 1, 1, 2, 2, 3, 3, 1, 1, 2, 0, 2, 2, 1, 0, 1, 1, 2, 0, 2,\n",
       "        3, 3, 0, 3, 1, 2, 3, 1, 0, 1, 3, 1, 0, 2, 1, 3, 0, 1, 1, 1, 3, 0, 0, 2,\n",
       "        2, 2, 2, 0, 2, 3, 3, 2, 3, 1, 0, 2, 1, 0, 2, 1, 0, 1, 2, 1, 0, 3, 3, 2,\n",
       "        3, 1, 3, 2, 2, 2, 2, 1, 0, 1, 2, 3, 0, 0, 2, 2, 1, 2, 3, 3, 0, 1, 2, 1,\n",
       "        3, 1, 1, 1, 2, 1, 1, 3, 0, 0, 1, 1, 1, 1, 1, 2, 2, 0, 0, 3, 2, 3, 2, 1,\n",
       "        3, 2, 3, 2, 3, 1, 3, 3, 2, 3, 2, 3, 2, 3, 1, 2, 3, 1, 2, 1, 2, 2, 1, 3,\n",
       "        0, 0, 0, 2, 1, 0, 2, 1, 1, 2, 0, 2, 0, 2, 2, 2, 1, 1, 1, 0, 2, 2, 2, 2,\n",
       "        2, 2, 2, 2, 2, 3, 3, 3, 3, 2, 1, 3, 1, 1, 1, 3, 3, 1, 3, 3, 2, 2, 1, 0,\n",
       "        1, 0, 1, 2, 1, 3, 3, 2, 2, 3, 2, 3, 1, 1, 3, 3, 1, 3, 0, 1, 0, 2, 3, 2,\n",
       "        1, 3, 2, 2, 0, 1, 1, 2, 2, 0, 1, 2, 1, 1, 1, 3, 1, 3, 1, 1, 0, 1, 2, 1,\n",
       "        3, 1, 0, 1, 1, 1, 3, 3, 2])"
      ]
     },
     "execution_count": 17,
     "metadata": {},
     "output_type": "execute_result"
    }
   ],
   "source": [
    "y # vere label"
   ]
  },
  {
   "cell_type": "code",
   "execution_count": 18,
   "id": "f25cf7ca-0ada-4d12-89d4-46b7f8ba11e8",
   "metadata": {},
   "outputs": [
    {
     "data": {
      "text/plain": [
       "tensor([3, 1, 1, 0, 3, 3, 2, 2, 0, 1, 1, 3, 0, 2, 1, 3, 2, 2, 3, 1, 1, 0, 2, 3,\n",
       "        3, 3, 3, 2, 2, 2, 2, 2, 0, 2, 1, 1, 2, 3, 3, 3, 2, 3, 1, 1, 0, 0, 1, 0,\n",
       "        1, 3, 0, 0, 1, 1, 2, 3, 2, 3, 0, 2, 0, 3, 2, 0, 2, 3, 2, 1, 2, 3, 2, 2,\n",
       "        1, 3, 3, 3, 2, 1, 2, 1, 2, 1, 0, 1, 2, 2, 3, 0, 3, 3, 2, 2, 0, 3, 3, 3,\n",
       "        2, 2, 2, 0, 0, 2, 2, 0, 0, 2, 1, 2, 1, 2, 1, 1, 1, 1, 3, 3, 1, 3, 1, 3,\n",
       "        2, 1, 2, 2, 0, 1, 3, 1, 2, 1, 3, 1, 0, 2, 1, 3, 1, 3, 2, 1, 2, 2, 2, 3,\n",
       "        3, 1, 2, 3, 2, 0, 2, 0, 3, 3, 1, 3, 1, 2, 1, 2, 3, 3, 3, 1, 2, 1, 0, 2,\n",
       "        2, 1, 2, 3, 2, 0, 3, 2, 2, 3, 1, 0, 1, 2, 2, 2, 1, 1, 3, 2, 0, 1, 1, 3,\n",
       "        0, 2, 0, 3, 0, 0, 2, 0, 3, 2, 1, 2, 3, 3, 1, 1, 2, 1, 1, 3, 2, 3, 0, 3,\n",
       "        3, 1, 0, 0, 1, 0, 2, 1, 2, 2, 2, 2, 2, 2, 1, 3, 1, 2, 3, 1, 1, 3, 0, 2,\n",
       "        1, 0, 2, 2, 2, 1, 2, 2, 2, 3, 3, 1, 1, 2, 2, 2, 2, 1, 0, 1, 1, 2, 1, 2,\n",
       "        3, 3, 0, 3, 1, 1, 3, 1, 1, 1, 3, 1, 2, 2, 2, 3, 0, 0, 1, 1, 3, 0, 0, 2,\n",
       "        2, 2, 1, 1, 2, 3, 3, 2, 3, 1, 0, 2, 1, 0, 2, 1, 0, 1, 2, 2, 1, 3, 3, 2,\n",
       "        3, 2, 3, 2, 2, 2, 2, 1, 1, 1, 2, 3, 0, 0, 2, 2, 1, 2, 3, 3, 0, 1, 2, 2,\n",
       "        3, 1, 1, 0, 2, 2, 1, 3, 2, 0, 1, 1, 1, 1, 1, 1, 2, 1, 0, 3, 2, 3, 2, 1,\n",
       "        3, 2, 3, 2, 3, 0, 3, 3, 1, 3, 2, 3, 2, 3, 1, 1, 3, 1, 2, 1, 2, 2, 1, 3,\n",
       "        0, 2, 0, 0, 1, 1, 1, 1, 1, 2, 0, 2, 0, 2, 2, 2, 1, 2, 2, 0, 2, 2, 2, 2,\n",
       "        2, 2, 2, 2, 1, 3, 3, 3, 3, 2, 1, 3, 1, 1, 2, 3, 3, 1, 3, 3, 2, 2, 1, 1,\n",
       "        1, 1, 1, 2, 1, 3, 3, 2, 1, 3, 2, 3, 1, 1, 3, 3, 1, 3, 0, 1, 2, 2, 3, 2,\n",
       "        1, 3, 2, 1, 2, 1, 2, 2, 2, 0, 1, 2, 2, 1, 1, 3, 1, 3, 1, 0, 1, 1, 2, 1,\n",
       "        3, 1, 0, 1, 2, 1, 3, 3, 2], device='cuda:0')"
      ]
     },
     "execution_count": 18,
     "metadata": {},
     "output_type": "execute_result"
    }
   ],
   "source": [
    "y_pred"
   ]
  },
  {
   "cell_type": "code",
   "execution_count": 19,
   "id": "e249c49b-12ee-476a-b65d-7a67b979278a",
   "metadata": {},
   "outputs": [
    {
     "name": "stdout",
     "output_type": "stream",
     "text": [
      "Accuracy: 0.8282208588957055\n"
     ]
    }
   ],
   "source": [
    "# compute the accuracy\n",
    "correct = 0\n",
    "total = 0\n",
    "with torch.no_grad():\n",
    "    for img, label in test_loader:\n",
    "        img, label = img.to(device), label.to(device)\n",
    "        y_pred = model(img)\n",
    "        correct += (y_pred.argmax(1) == label).sum().item()\n",
    "        total += label.size(0)\n",
    "\n",
    "print(f'Accuracy: {correct / total}')"
   ]
  },
  {
   "cell_type": "code",
   "execution_count": 20,
   "id": "5f704cdd-9f4f-4e82-b17c-df8406cbfade",
   "metadata": {},
   "outputs": [
    {
     "name": "stdout",
     "output_type": "stream",
     "text": [
      "Accuracy: 0.8282208588957055\n"
     ]
    }
   ],
   "source": [
    "model2 = LeukemiaClassifier()\n",
    "model2.eval()\n",
    "x, y = next(iter(test_loader))\n",
    "y_pred = model(x.to(device)).argmax(1)\n",
    "\n",
    "correct = 0\n",
    "total = 0\n",
    "with torch.no_grad():\n",
    "    for img, label in test_loader:\n",
    "        img, label = img.to(device), label.to(device)\n",
    "        y_pred = model(img)\n",
    "        correct += (y_pred.argmax(1) == label).sum().item()\n",
    "        total += label.size(0)\n",
    "\n",
    "print(f'Accuracy: {correct / total}')"
   ]
  }
 ],
 "metadata": {
  "kernelspec": {
   "display_name": "Python 3 (ipykernel)",
   "language": "python",
   "name": "python3"
  },
  "language_info": {
   "codemirror_mode": {
    "name": "ipython",
    "version": 3
   },
   "file_extension": ".py",
   "mimetype": "text/x-python",
   "name": "python",
   "nbconvert_exporter": "python",
   "pygments_lexer": "ipython3",
   "version": "3.9.18"
  }
 },
 "nbformat": 4,
 "nbformat_minor": 5
}
